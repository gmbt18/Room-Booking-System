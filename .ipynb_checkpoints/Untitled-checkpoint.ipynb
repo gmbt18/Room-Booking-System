{
 "cells": [
  {
   "cell_type": "code",
   "execution_count": 83,
   "id": "560f1346",
   "metadata": {},
   "outputs": [],
   "source": [
    "from bookingapp.models import *\n",
    "from datetime import date, datetime\n",
    "import time,os\n",
    "import pandas as pd\n",
    "import numpy as np\n",
    "import re\n",
    "\n",
    "os.environ[\"DJANGO_ALLOW_ASYNC_UNSAFE\"] = \"true\"\n"
   ]
  },
  {
   "cell_type": "code",
   "execution_count": 93,
   "id": "95500546",
   "metadata": {},
   "outputs": [],
   "source": [
    "df = pd.read_csv('SS 18-19 CAS SCHEDULE OF CLASSES as of November 26, 2018.xlsx - DAC.csv').iloc[7:,[0,1,2,4,5,6,7,8,9]]\n",
    "df.columns=['Class No.','Course Title','Subject','Section','Component','Schedule','Room','Instructor','Class Capacity']\n",
    "df = df[df[\"Room\"].str.contains(\"TBA\") == False]\n",
    "time = df[\"Schedule\"]\n"
   ]
  },
  {
   "cell_type": "code",
   "execution_count": 94,
   "id": "984a063a",
   "metadata": {},
   "outputs": [
    {
     "name": "stdout",
     "output_type": "stream",
     "text": [
      "   Class No.                       Course Title Subject Section Component  \\\n",
      "7       1187  Critical Perspectives in the Arts    ARTS     MHB       LEC   \n",
      "8       1186  Critical Perspectives in the Arts    ARTS     MHC       LEC   \n",
      "9       1188  Critical Perspectives in the Arts    ARTS     MHD       LEC   \n",
      "10      1189  Critical Perspectives in the Arts    ARTS     MHE       LEC   \n",
      "11      1190  Critical Perspectives in the Arts    ARTS     MHG       LEC   \n",
      "..       ...                                ...     ...     ...       ...   \n",
      "93      1232           Wika, Kultura at Lipunan    WIKA    TFC1       LEC   \n",
      "94      1233           Wika, Kultura at Lipunan    WIKA    TFC2       LEC   \n",
      "95      1234           Wika, Kultura at Lipunan    WIKA     TFD       LEC   \n",
      "96      1235           Wika, Kultura at Lipunan    WIKA    TFE1       LEC   \n",
      "97      1236           Wika, Kultura at Lipunan    WIKA    TFE2       LEC   \n",
      "\n",
      "                   Schedule      Room                           Instructor  \\\n",
      "7   08:30 AM - 10:00 AM MTH     RH303  Achanzar-Labor,Honey Libertine Ruiz   \n",
      "8   10:00 AM - 11:30 AM MTH     RH303  Achanzar-Labor,Honey Libertine Ruiz   \n",
      "9   11:30 AM - 01:00 PM MTH     RH303           Bautista,Donna Aelred Cruz   \n",
      "10  01:00 PM - 02:30 PM MTH     RH303              Bonilla,Celia Maglalang   \n",
      "11  02:30 PM - 04:00 PM MTH     RH303           Bautista,Donna Aelred Cruz   \n",
      "..                      ...       ...                                  ...   \n",
      "93   10:00 AM - 11:30 AM TF  CAS-SC-2               HILARIO,ROZHEANNE CRUZ   \n",
      "94   10:00 AM - 11:30 AM TF    RH 118           Pulumbarit,Carolina Santos   \n",
      "95   11:30 AM - 01:00 PM TF     RH220                   Joson,Odessa Nuyda   \n",
      "96   01:00 PM - 02:30 PM TF     RH220                   Joson,Odessa Nuyda   \n",
      "97   01:00 PM - 02:30 PM TF  CAS-SC-3                Roque,Rosemarie Omnes   \n",
      "\n",
      "   Class Capacity  \n",
      "7              30  \n",
      "8              30  \n",
      "9              30  \n",
      "10             30  \n",
      "11             30  \n",
      "..            ...  \n",
      "93             30  \n",
      "94             30  \n",
      "95             30  \n",
      "96             30  \n",
      "97             30  \n",
      "\n",
      "[74 rows x 9 columns]\n"
     ]
    }
   ],
   "source": [
    "print(df)"
   ]
  },
  {
   "cell_type": "code",
   "execution_count": 95,
   "id": "d9633001",
   "metadata": {},
   "outputs": [],
   "source": [
    "t = time.loc[[7]].to_string()"
   ]
  },
  {
   "cell_type": "code",
   "execution_count": 106,
   "id": "81bf4d4f",
   "metadata": {},
   "outputs": [],
   "source": [
    "x=re.findall(r'\\s(\\d{2}\\:\\d{2}\\s?(?:AM|PM|am|pm)\\s?\\-\\s?\\d{2}\\:\\d{2}\\s?(?:AM|PM|am|pm))',time.to_string())\n",
    "y=re.findall(\"MTH|TF|W|S\",time.to_string())\n",
    "for i in x:\n",
    "    for j in y:\n",
    "        print(i+j)\n"
   ]
  },
  {
   "cell_type": "code",
   "execution_count": 91,
   "id": "8c046fc9",
   "metadata": {},
   "outputs": [
    {
     "name": "stdout",
     "output_type": "stream",
     "text": [
      "['08:30 AM - 10:00 AM', '10:00 AM - 11:30 AM', '11:30 AM - 01:00 PM', '01:00 PM - 02:30 PM', '02:30 PM - 04:00 PM', '10:00 AM - 11:30 AM', '11:30 AM - 01:00 PM', '02:30 PM - 04:00 PM', '04:00 PM - 05:30 PM', '01:00 PM - 04:00 PM', '07:00 AM - 08:30 AM', '08:30 AM - 10:00 AM', '08:30 AM - 10:00 AM', '11:30 AM - 01:00 PM', '11:30 AM - 01:00 PM', '01:00 PM - 02:30 PM', '01:00 PM - 02:30 PM', '02:30 PM - 04:00 PM', '04:00 PM - 05:30 PM', '07:00 AM - 08:30 AM', '07:00 AM - 08:30 AM', '08:30 AM - 10:00 AM', '08:30 AM - 10:00 AM', '08:30 AM - 10:00 AM', '10:00 AM - 11:30 AM', '04:00 PM - 05:30 PM', '08:30 AM - 10:00 AM', '10:00 AM - 11:30 AM', '08:30 AM - 10:00 AM', '08:30 AM - 10:00 AM', '10:00 AM - 11:30 AM', '11:30 AM - 01:00 PM', '02:30 PM - 04:00 PM', '08:30 AM - 10:00 AM', '10:00 AM - 11:30 AM', '10:00 AM - 11:30 AM', '02:30 PM - 04:00 PM', '10:00 AM - 11:30 AM', '02:30 PM - 04:00 PM', '04:00 PM - 05:30 PM', '01:00 PM - 02:30 PM', '09:00 AM - 12:00 PM', '02:30 PM - 04:00 PM', '08:30 AM - 10:00 AM', '10:00 AM - 11:30 AM', '10:00 AM - 11:30 AM', '11:30 AM - 01:00 PM', '09:00 AM - 12:00 PM', '01:00 PM - 04:00 PM', '01:00 PM - 02:30 PM', '01:00 PM - 02:30 PM', '02:30 PM - 04:00 PM', '08:30 AM - 10:00 AM', '11:30 AM - 01:00 PM', '01:00 PM - 02:30 PM', '02:30 PM - 04:00 PM', '02:30 PM - 04:00 PM', '02:30 PM - 04:00 PM', '04:00 PM - 05:30 PM', '11:30 AM - 02:30 PM', '02:30 PM - 05:30 PM', '07:00 AM - 08:30 AM', '07:00 AM - 08:30 AM', '08:30 AM - 10:00 AM', '01:00 PM - 02:30 PM', '01:00 PM - 02:30 PM', '01:00 PM - 02:30 PM', '04:00 PM - 05:30 PM', '08:30 AM - 10:00 AM', '10:00 AM - 11:30 AM', '10:00 AM - 11:30 AM', '11:30 AM - 01:00 PM', '01:00 PM - 02:30 PM', '01:00 PM - 02:30 PM']\n"
     ]
    }
   ],
   "source": [
    "start_time = []\n",
    "end_time = []\n",
    "for i in x:\n",
    "    tf = i.split(' - ')\n",
    "    start_time.append(tf[0])\n",
    "    end_time.append(tf[1])\n",
    "print(x)"
   ]
  },
  {
   "cell_type": "code",
   "execution_count": null,
   "id": "4bce7924",
   "metadata": {},
   "outputs": [],
   "source": []
  }
 ],
 "metadata": {
  "kernelspec": {
   "display_name": "Django Shell-Plus",
   "language": "python",
   "name": "django_extensions"
  },
  "language_info": {
   "codemirror_mode": {
    "name": "ipython",
    "version": 3
   },
   "file_extension": ".py",
   "mimetype": "text/x-python",
   "name": "python",
   "nbconvert_exporter": "python",
   "pygments_lexer": "ipython3",
   "version": "3.10.5"
  }
 },
 "nbformat": 4,
 "nbformat_minor": 5
}
