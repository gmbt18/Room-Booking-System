{
 "cells": [
  {
   "cell_type": "code",
   "execution_count": 3,
   "id": "560f1346",
   "metadata": {},
   "outputs": [],
   "source": [
    "from bookingapp.models import *\n",
    "from datetime import date\n",
    "import time,os\n",
    "\n",
    "os.environ[\"DJANGO_ALLOW_ASYNC_UNSAFE\"] = \"true\"\n"
   ]
  },
  {
   "cell_type": "code",
   "execution_count": 4,
   "id": "95500546",
   "metadata": {},
   "outputs": [],
   "source": [
    "booking=Booking.objects.get(id=2)"
   ]
  },
  {
   "cell_type": "code",
   "execution_count": 13,
   "id": "984a063a",
   "metadata": {},
   "outputs": [
    {
     "data": {
      "text/plain": [
       "'02:30PM-05:30PM'"
      ]
     },
     "execution_count": 13,
     "metadata": {},
     "output_type": "execute_result"
    }
   ],
   "source": [
    "booking.start_time.strftime(\"%I:%M%p\") + '-' + booking.end_time.strftime(\"%I:%M%p\")"
   ]
  },
  {
   "cell_type": "code",
   "execution_count": null,
   "id": "d9633001",
   "metadata": {},
   "outputs": [],
   "source": []
  }
 ],
 "metadata": {
  "kernelspec": {
   "display_name": "Django Shell-Plus",
   "language": "python",
   "name": "django_extensions"
  },
  "language_info": {
   "codemirror_mode": {
    "name": "ipython",
    "version": 3
   },
   "file_extension": ".py",
   "mimetype": "text/x-python",
   "name": "python",
   "nbconvert_exporter": "python",
   "pygments_lexer": "ipython3",
   "version": "3.10.5"
  }
 },
 "nbformat": 4,
 "nbformat_minor": 5
}
